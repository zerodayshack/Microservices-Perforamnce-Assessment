{
 "cells": [
  {
   "cell_type": "code",
   "execution_count": 1,
   "metadata": {},
   "outputs": [],
   "source": [
    "#Script to compare performance under different deployment alternatives.\n",
    "#Version:  August 8th 2021\n",
    "#Requires computeThreshold.R; computeDM_FUNCTIONS.R\n",
    "\n",
    "#optional: clean console variables\n",
    "#rm(list=ls())"
   ]
  },
  {
   "cell_type": "code",
   "execution_count": 2,
   "metadata": {},
   "outputs": [],
   "source": [
    "#To get warnings, comment this out"
   ]
  },
  {
   "cell_type": "code",
   "execution_count": 3,
   "metadata": {},
   "outputs": [],
   "source": [
    "defaultW <- getOption(\"warn\")\n",
    "options(warn = -1)"
   ]
  },
  {
   "cell_type": "code",
   "execution_count": 4,
   "metadata": {},
   "outputs": [
    {
     "name": "stdout",
     "output_type": "stream",
     "text": [
      "Script to compare performance under different deployment alternatives. \n",
      "Version:  August 8th 2021 \n",
      "Requires computeThreshold.R; computeDM_FUNCTIONS.R"
     ]
    }
   ],
   "source": [
    "cat(\n",
    "    \"Script to compare performance under different deployment alternatives. \\nVersion:  August 8th 2021 \\nRequires computeThreshold.R; computeDM_FUNCTIONS.R\"\n",
    ")"
   ]
  },
  {
   "cell_type": "code",
   "execution_count": 5,
   "metadata": {},
   "outputs": [],
   "source": [
    "#optional: clean console variables\n",
    "#rm(list=ls())"
   ]
  },
  {
   "cell_type": "code",
   "execution_count": 6,
   "metadata": {},
   "outputs": [],
   "source": [
    "#LIBRARIES\n",
    "#Pre-requisites, comment these lines if you already installed the libraries\n",
    "# install.packages(\"RColorBrewer\", repos = \"http://cran.us.r-project.org\")\n",
    "# install.packages(\"gridExtra\", repos = \"http://cran.us.r-project.org\")\n",
    "# install.packages(\"gridBase\",repos = \"http://cran.us.r-project.org\")\n",
    "# install.packages(\"ggplot2\",repos = \"http://cran.us.r-project.org\")\n",
    "# install.packages(\"imager\",repos = \"http://cran.us.r-project.org\")"
   ]
  },
  {
   "cell_type": "code",
   "execution_count": 7,
   "metadata": {},
   "outputs": [
    {
     "name": "stderr",
     "output_type": "stream",
     "text": [
      "Loading required package: magrittr\n",
      "\n",
      "\n",
      "Attaching package: 'imager'\n",
      "\n",
      "\n",
      "The following object is masked from 'package:magrittr':\n",
      "\n",
      "    add\n",
      "\n",
      "\n",
      "The following object is masked from 'package:grid':\n",
      "\n",
      "    depth\n",
      "\n",
      "\n",
      "The following objects are masked from 'package:stats':\n",
      "\n",
      "    convolve, spectrum\n",
      "\n",
      "\n",
      "The following object is masked from 'package:graphics':\n",
      "\n",
      "    frame\n",
      "\n",
      "\n",
      "The following object is masked from 'package:base':\n",
      "\n",
      "    save.image\n",
      "\n",
      "\n",
      "\n",
      "Attaching package: 'stringr'\n",
      "\n",
      "\n",
      "The following object is masked from 'package:imager':\n",
      "\n",
      "    boundary\n",
      "\n",
      "\n"
     ]
    }
   ],
   "source": [
    "library(ggplot2)\n",
    "library(gridExtra)\n",
    "library(gridExtra)\n",
    "library(gridBase)\n",
    "library(grid)\n",
    "library(scales)\n",
    "library(imager)\n",
    "library(RColorBrewer)\n",
    "library(readxl)\n",
    "library(stringr)\n",
    "library(grid)\n",
    "library(ggplotify)"
   ]
  },
  {
   "cell_type": "code",
   "execution_count": 8,
   "metadata": {},
   "outputs": [],
   "source": [
    "#SET DIRECTORIES\n",
    "#Set working directory: the  directory containing the directory \"RScripts\"  "
   ]
  },
  {
   "cell_type": "code",
   "execution_count": 9,
   "metadata": {},
   "outputs": [],
   "source": [
    "workingDirectory<-getwd()\n",
    "setwd(workingDirectory)"
   ]
  },
  {
   "cell_type": "code",
   "execution_count": 10,
   "metadata": {},
   "outputs": [],
   "source": [
    "# COMMAND LINE\n",
    "# +\n",
    "#To run from command line un comment the following lines. Only two args: working directory and path to experiment data\n",
    "#args = commandArgs(trailingOnly=TRUE)\n",
    "#workingDirectory<-args[1]\n",
    "#To start from console use. workingDirectory: the  directory containing the directory \"RScripts\"  \n",
    "#RScript start.R <path to workingDirectory> "
   ]
  },
  {
   "cell_type": "code",
   "execution_count": 11,
   "metadata": {},
   "outputs": [],
   "source": [
    "#The directory where the scripts are"
   ]
  },
  {
   "cell_type": "code",
   "execution_count": 12,
   "metadata": {},
   "outputs": [],
   "source": [
    "scriptDirectory <- paste(getwd(),\"/RScripts/\", sep = \"\")"
   ]
  },
  {
   "cell_type": "code",
   "execution_count": 13,
   "metadata": {},
   "outputs": [],
   "source": [
    "#Set folder for experiment data"
   ]
  },
  {
   "cell_type": "code",
   "execution_count": 14,
   "metadata": {},
   "outputs": [],
   "source": [
    "dataDirectory <- paste(getwd(), \"/DATA/Experiments/\", sep = \"\")\n",
    "setwd(dataDirectory)"
   ]
  },
  {
   "cell_type": "code",
   "execution_count": 15,
   "metadata": {},
   "outputs": [],
   "source": [
    "#Search for the name of the data files"
   ]
  },
  {
   "cell_type": "code",
   "execution_count": 16,
   "metadata": {},
   "outputs": [],
   "source": [
    "files <- list.files(dataDirectory, pattern = \".xlsx\", recursive = TRUE)\n",
    "iter1 <- files[grep(\"iter1\", files)]\n",
    "iter2 <- files[grep(\"iter2\", files)]"
   ]
  },
  {
   "cell_type": "code",
   "execution_count": 17,
   "metadata": {},
   "outputs": [],
   "source": [
    "#Automatically detect from the file names the path for balance/unbalance iter1/iter2 experiemnts"
   ]
  },
  {
   "cell_type": "code",
   "execution_count": 18,
   "metadata": {},
   "outputs": [],
   "source": [
    "pathData_I1_UB <-\n",
    "  paste(dataDirectory, iter1[grep(\"_unbal\", iter1)], sep = \"\")\n",
    "pathData_I1_B <-\n",
    "  paste(dataDirectory, iter1[grep(\"_bal\", iter1)], sep = \"\")\n",
    "pathData_I2_UB <-\n",
    "  paste(dataDirectory, iter2[grep(\"_unbal\", iter2)], sep = \"\")\n",
    "pathData_I2_B <-\n",
    "  paste(dataDirectory, iter2[grep(\"_bal\", iter2)], sep = \"\")"
   ]
  },
  {
   "cell_type": "code",
   "execution_count": 19,
   "metadata": {},
   "outputs": [],
   "source": [
    "#############\n",
    "#CREATE POLYGONS\n",
    "#pathData* are the paths to the data files for the four cases: balance/unbalance & iter1/iter2\n"
   ]
  },
  {
   "cell_type": "code",
   "execution_count": 20,
   "metadata": {},
   "outputs": [
    {
     "name": "stdout",
     "output_type": "stream",
     "text": [
      "[1] \"Start plotting polygon\"\n",
      "[1] \"End plotting polygon\"\n",
      "[1] \"Start plotting polygon\"\n",
      "[1] \"End plotting polygon\"\n",
      "[1] \"Start plotting polygon\"\n",
      "[1] \"End plotting polygon\"\n",
      "[1] \"Start plotting polygon\"\n",
      "[1] \"End plotting polygon\"\n"
     ]
    }
   ],
   "source": [
    "p2List <- list()\n",
    "polygonList <- list()\n",
    "for (pathData in c(pathData_I1_UB, pathData_I1_B, pathData_I2_UB, pathData_I2_B)) {\n",
    "  parx <- NULL\n",
    "  parx <-\n",
    "    grep(pathData,\n",
    "         c(\n",
    "           pathData_I1_UB,\n",
    "           pathData_I1_B,\n",
    "           pathData_I2_UB,\n",
    "           pathData_I2_B\n",
    "         ))\n",
    "  \n",
    "  #from the path name of the data file, create the path name of the file where to save failing services\n",
    "  strRem <- str_remove(pathData, \".xlsx\")\n",
    "  strRem <- tail(strsplit(strRem, \"/\")[[1]], 1)\n",
    "  #create typeSet and iter from filenams\n",
    "  temp <- c()\n",
    "  temp <- as.data.frame(strsplit(strRem, \"_\"))\n",
    "  typeSet <- c()\n",
    "  if (any(temp == \"unbal-profile\")) {\n",
    "    typeSet <- \"unbal\"\n",
    "  } else{\n",
    "    typeSet <- \"bal\"\n",
    "  }\n",
    "  iter <- c()\n",
    "  if (any(temp == \"iter2\")) {\n",
    "    iter <- 2\n",
    "  } else{\n",
    "    iter <- 1\n",
    "  }\n",
    "  \n",
    "  #Create one dataset per type of deployment architecture mono/cqrs/role by reading the sheet with the corresponding name\n",
    "  sheets <- excel_sheets(pathData)\n",
    "  monoDataset <-\n",
    "    as.data.frame(read_excel(pathData, sheet = grep(\"mono\", sheets)))\n",
    "  cqrsDataset <-\n",
    "    as.data.frame(read_excel(pathData, sheet = grep(\"cqrs\", sheets)))\n",
    "  roleDataset <-\n",
    "    as.data.frame(read_excel(pathData, sheet = grep(\"role\", sheets)))\n",
    "  \n",
    "  #Retrieve configuration and operations names from column headers of each file\n",
    "  configurationTypes <- colnames(monoDataset)[1:7]\n",
    "  operations <-\n",
    "    sort(colnames(monoDataset)[8:length(colnames(monoDataset))])\n",
    "  \n",
    "  configurationTypes1 <- colnames(roleDataset)[1:7]\n",
    "  operations1 <-\n",
    "    sort(colnames(roleDataset)[8:length(colnames(roleDataset))])\n",
    "  \n",
    "  configurationTypes2 <- colnames(cqrsDataset)[1:7]\n",
    "  operations2 <-\n",
    "    sort(colnames(cqrsDataset)[8:length(colnames(cqrsDataset))])\n",
    "  \n",
    "  #Reorder datsets by ordering columns alphabetically. Skip the following lines if datasets are already ordered\n",
    "  monoOperationDataset <- monoDataset[, sort(operations)]\n",
    "  roleOperationDataset <- roleDataset[, sort(operations1)]\n",
    "  cqrsOperationDataset <- cqrsDataset[, sort(operations2)]\n",
    "  #\n",
    "  monoConfigurationsDataSet <- monoDataset[, configurationTypes]\n",
    "  temp1 <-\n",
    "    cbind(rep(\"mono\", nrow(monoConfigurationsDataSet)), monoConfigurationsDataSet)\n",
    "  colnames(temp1)[1] <- \"ID\"\n",
    "  colnames(temp1)[2] <- \"Users\"\n",
    "  loads1 <- temp1[, c(\"ID\", \"Users\", \"Metric\")]\n",
    "  mono <- cbind(loads1, monoOperationDataset)\n",
    "  #\n",
    "  roleConfigurationsDataSet <- roleDataset[, configurationTypes]\n",
    "  temp2 <-\n",
    "    cbind(rep(\"role\", nrow(roleConfigurationsDataSet)), roleConfigurationsDataSet)\n",
    "  colnames(temp2)[1] <- \"ID\"\n",
    "  colnames(temp2)[2] <- \"Users\"\n",
    "  loads2 <- temp2[, c(\"ID\", \"Users\", \"Metric\")]\n",
    "  role <- cbind(loads2, roleOperationDataset)\n",
    "  #\n",
    "  cqrsConfigurationsDataSet <- cqrsDataset[, configurationTypes]\n",
    "  temp3 <-\n",
    "    cbind(rep(\"cqrs\", nrow(cqrsConfigurationsDataSet)), cqrsConfigurationsDataSet)\n",
    "  colnames(temp3)[1] <- \"ID\"\n",
    "  colnames(temp3)[2] <- \"Users\"\n",
    "  loads3 <- temp3[, c(\"ID\", \"Users\", \"Metric\")]\n",
    "  cqrs <- cbind(loads3, cqrsOperationDataset)\n",
    "  \n",
    "  #Retrieve laods in natural order\n",
    "  myMax <- max(mono$Users)\n",
    "  mySplitting <- unique(mono$Users)\n",
    "  myOrderedSplitting <- mySplitting[order(mySplitting)]\n",
    "  #print(colnames(mono))\n",
    "  \n",
    "  #RETRIEVE THE OPERATIONAL PROFILE\n",
    "  #From actual frequency values of loads\n",
    "  aggregatedValues <- data.frame()\n",
    "  aggregatedValues <-\n",
    "    cbind(\n",
    "      c(2, 50, 100, 150, 200, 250, 300, 350),\n",
    "      c(0.008, 0.045, 0.069, 0.207, 0.239, 0.247, 0.155, 0.031)\n",
    "    )\n",
    "  \n",
    "  #Set the directory for the results\n",
    "  setwd(\"../../\")\n",
    "  getwd()\n",
    "  resultsDirectory <- paste(workingDirectory, \"/Results/\", sep = \"\")\n",
    "  if (!dir.exists(\"Results\")) {\n",
    "    dir.create(\"Results\")\n",
    "  }\n",
    "  if (!dir.exists(\"Results/Plots\")) {\n",
    "    dir.create(\"Results/Plots\")\n",
    "  }\n",
    "  \n",
    "  setwd(scriptDirectory)\n",
    "  #Run all the functions to compute the relative and the cumulative domain metric\n",
    "  source(\"computeDM_FUNCTIONS.R\")\n",
    "  \n",
    "  #baseline data\n",
    "  usedDataFile <- rbind(mono, role, cqrs)\n",
    "  #mean of microservice requests\n",
    "  avg <- usedDataFile[usedDataFile$Metric == \"Avg (sec)\", -3]\n",
    "  #standard deviation of microservice requests\n",
    "  SD <- usedDataFile[usedDataFile$Metric == \"SD (sec)\", -3]\n",
    "  #This is the frequency of microservice requests\n",
    "  mixTemp <-\n",
    "    usedDataFile[usedDataFile$Metric == \"Mix % (take failure into account)\", -3]\n",
    "  \n",
    "  #COMPUTE THE THRESHOLD\n",
    "  noMicroServices <- length(operations)\n",
    "  # To use with computeThreshold.R. Threshold is derived from the mono dataset\n",
    "  dataBaseline <- mono\n",
    "  \n",
    "  par <- 2\n",
    "  threshold <- NULL\n",
    "  failingServices <- NULL\n",
    "  failures <- NULL\n",
    "  source(\"computeThreshold.R\")\n",
    "  \n",
    "  #COMPUTE THE FAILING MICROSERVICES\n",
    "  #threshold is the scalability requirement; avg is the response time of the MS; mixTemp is the frequency vector; computeRelativeMass requires to execute \"computeDM_FUNCTIONS.R\"\n",
    "  failures <-\n",
    "    computeRelativeMass(threshold, avg, mixTemp, noMicroServices)\n",
    "  \n",
    "  #total probability of non-failure per type of configuration mono/cqrs/role and load\n",
    "  relativeMass <- failures[[1]]\n",
    "  \n",
    "  #micorservices that fail per type of configuration and load\n",
    "  temp_failingServices <- failures[[2]]\n",
    "  colnames(temp_failingServices) <-\n",
    "    c(\"architectureType\",\n",
    "      \"loadIntensity\",\n",
    "      \"mix\",\n",
    "      \"avg\",\n",
    "      \"microservice\")\n",
    "  \n",
    "  if (length(temp_failingServices[, 1]) > 1) {\n",
    "    failingServices <-\n",
    "      temp_failingServices[order(temp_failingServices[, 1]), ]\n",
    "  } else{\n",
    "    failingServices <- temp_failingServices\n",
    "  }\n",
    "  setwd(\"../\")\n",
    "  #getwd()\n",
    "  write.csv(\n",
    "    failingServices,\n",
    "    paste(\n",
    "      \"Results/\",\n",
    "      par,\n",
    "      \"_\",\n",
    "      strRem,\n",
    "      \"_failingMicroservice.csv\",\n",
    "      sep = \"\"\n",
    "    ),\n",
    "    row.names = F\n",
    "  )\n",
    "  \n",
    "  #merged_title<-paste(iter,typeSet,paste(\"threshold:\",par, sep=\" \"), sep=\", \")\n",
    "  merged_title <- paste(iter, typeSet, sep = \", \")\n",
    "  \n",
    "  #total probability of non-failure times probability of access of load per type of configuration and load\n",
    "  domainMetricList <-\n",
    "    computeDomainMetrics(relativeMass, aggregatedValues)\n",
    "  \n",
    "  #cumulative (over loads) probability of non-failure per type of configuration\n",
    "  domainMetric <- lapply(domainMetricList, function(x) {\n",
    "    sum(x$absoluteMass)\n",
    "  })\n",
    "  \n",
    "  #plotting polygons\n",
    "  print(\"Start plotting polygon\")\n",
    "  type <- names(domainMetricList)\n",
    "  colnames(aggregatedValues) <- c(\"load intensity\", \"Domain metric\")\n",
    "  myCol = c(\"blue\", \"violet\", \"darkgreen\")\n",
    "  par(oma = c(0, 0, 0, 0))\n",
    "  myFilerPol <-\n",
    "    paste(\"Results/Plots/pol_iter\", iter, typeSet, \".pdf\", sep = \"\")\n",
    "  pdf(file = myFilerPol)\n",
    "  plot(\n",
    "    aggregatedValues,\n",
    "    xlim = c(-10, aggregatedValues[nrow(aggregatedValues), 1] + 10),\n",
    "    pch = 19,\n",
    "    pt.cex = 1,\n",
    "    cex.axis = 1.3,\n",
    "    ylim = c(0, max(aggregatedValues[, 2]) + 0.1),\n",
    "    xaxt = \"n\",\n",
    "    cex.lab = 1.5,\n",
    "    bty = \"n\"\n",
    "  ) +\n",
    "    axis(\n",
    "      1,\n",
    "      at = c(8, aggregatedValues[-1, ][, 1]),\n",
    "      labels = c(2, aggregatedValues[-1, ][, 1]),\n",
    "      lwd.ticks = 1,\n",
    "      cex.axis = 1.3\n",
    "    )\n",
    "  #print all polygons of the given configurations\n",
    "  for (index in type) {\n",
    "    i <- which(type == index)\n",
    "    polygon(\n",
    "      c(\n",
    "        min(aggregatedValues[, 1]),\n",
    "        t(domainMetricList[[index]]$Users),\n",
    "        max(aggregatedValues[, 1])\n",
    "      ),\n",
    "      c(0, t(domainMetricList[[index]]$absoluteMass), 0),\n",
    "      col = adjustcolor(myCol[i], alpha.f = 0.1),\n",
    "      lty = 1,\n",
    "      lwd = 0.7,\n",
    "      border = myCol[i]\n",
    "    )\n",
    "    lines(\n",
    "      domainMetricList[[index]][, c(\"Users\", \"absoluteMass\")],\n",
    "      type = \"p\",\n",
    "      lwd = 0.7,\n",
    "      pt.cex = 1.3,\n",
    "      pch = 19,\n",
    "      col = myCol[i]\n",
    "    )\n",
    "  }\n",
    "  polygon(\n",
    "    c(\n",
    "      min(aggregatedValues[, 1]),\n",
    "      aggregatedValues[, 1],\n",
    "      max(aggregatedValues[, 1])\n",
    "    ),\n",
    "    c(0, aggregatedValues[, 2], 0),\n",
    "    col = adjustcolor(\"white\", alpha.f = 0.1),\n",
    "    pch = 19,\n",
    "    lty = 1,\n",
    "    lwd = 0.7,\n",
    "    border = \"darkblue\",\n",
    "    cex = 1.3\n",
    "  )\n",
    "  #print legend with DM values\n",
    "  legendNames <- c()\n",
    "  architectures <- c(\"Monolith\", \"RS\", \"CQRS\")\n",
    "  names(domainMetric) <- architectures\n",
    "  for (i in 1:length(names(domainMetric))) {\n",
    "    legendNames[i] <-\n",
    "      paste(names(domainMetric)[i], \" DM: \", domainMetric[i], sep = \"\")\n",
    "  }\n",
    "  text(\n",
    "    aggregatedValues,\n",
    "    labels = round(aggregatedValues[1:nrow(aggregatedValues), 2], 3),\n",
    "    pos = 3,\n",
    "    col = \"black\",\n",
    "    cex = 1.3\n",
    "  )\n",
    "  legend(\n",
    "    200,\n",
    "    0.265,\n",
    "    legendNames,\n",
    "    text.width = 2.3,\n",
    "    col = myCol,\n",
    "    lty = 1,\n",
    "    box.lty = 0,\n",
    "    lwd = 4,\n",
    "    yjust = 0,\n",
    "    cex = 1.3,\n",
    "    seg.len = 0.8,\n",
    "    inset = 0,\n",
    "    y.intersp = 1.5\n",
    "  )\n",
    "  graphics.off()\n",
    "  print(\"End plotting polygon\")\n",
    "}\n"
   ]
  },
  {
   "cell_type": "code",
   "execution_count": 21,
   "metadata": {},
   "outputs": [],
   "source": [
    "setwd(scriptDirectory)"
   ]
  },
  {
   "cell_type": "code",
   "execution_count": 22,
   "metadata": {},
   "outputs": [],
   "source": [
    "#CREATE SPIDERS, RIDGE PLOTS"
   ]
  },
  {
   "cell_type": "code",
   "execution_count": 23,
   "metadata": {},
   "outputs": [
    {
     "name": "stdout",
     "output_type": "stream",
     "text": [
      "[1] 1\n",
      "[1] 1\n",
      "[1] 1\n"
     ]
    },
    {
     "name": "stderr",
     "output_type": "stream",
     "text": [
      "Using model as id variables\n",
      "\n",
      "Using model as id variables\n",
      "\n",
      "Using model as id variables\n",
      "\n",
      "Using model as id variables\n",
      "\n",
      "Using model as id variables\n",
      "\n",
      "Using model as id variables\n",
      "\n",
      "Saving 7 x 7 in image\n",
      "\n",
      "geom_path: Each group consists of only one observation. Do you need to adjust\n",
      "the group aesthetic?\n",
      "\n",
      "Saving 7 x 7 in image\n",
      "\n",
      "Saving 7 x 7 in image\n",
      "\n",
      "Saving 7 x 7 in image\n",
      "\n",
      "Saving 7 x 7 in image\n",
      "\n"
     ]
    },
    {
     "name": "stdout",
     "output_type": "stream",
     "text": [
      "[1] 2\n",
      "[1] 1\n",
      "integer(0)\n"
     ]
    },
    {
     "name": "stderr",
     "output_type": "stream",
     "text": [
      "Using model as id variables\n",
      "\n",
      "Using model as id variables\n",
      "\n",
      "Using model as id variables\n",
      "\n",
      "Using model as id variables\n",
      "\n",
      "Using model as id variables\n",
      "\n",
      "Using model as id variables\n",
      "\n",
      "Saving 7 x 7 in image\n",
      "\n",
      "geom_path: Each group consists of only one observation. Do you need to adjust\n",
      "the group aesthetic?\n",
      "\n",
      "Saving 7 x 7 in image\n",
      "\n",
      "Saving 7 x 7 in image\n",
      "\n",
      "Saving 7 x 7 in image\n",
      "\n",
      "Saving 7 x 7 in image\n",
      "\n"
     ]
    },
    {
     "name": "stdout",
     "output_type": "stream",
     "text": [
      "[1] 3\n",
      "[1] 2\n",
      "[1] 1\n"
     ]
    },
    {
     "name": "stderr",
     "output_type": "stream",
     "text": [
      "Using model as id variables\n",
      "\n",
      "Using model as id variables\n",
      "\n",
      "Using model as id variables\n",
      "\n",
      "Using model as id variables\n",
      "\n",
      "Using model as id variables\n",
      "\n",
      "Using model as id variables\n",
      "\n",
      "Saving 7 x 7 in image\n",
      "\n",
      "geom_path: Each group consists of only one observation. Do you need to adjust\n",
      "the group aesthetic?\n",
      "\n",
      "Saving 7 x 7 in image\n",
      "\n",
      "Saving 7 x 7 in image\n",
      "\n",
      "Saving 7 x 7 in image\n",
      "\n",
      "Saving 7 x 7 in image\n",
      "\n"
     ]
    },
    {
     "name": "stdout",
     "output_type": "stream",
     "text": [
      "[1] 4\n",
      "[1] 2\n",
      "integer(0)\n"
     ]
    },
    {
     "name": "stderr",
     "output_type": "stream",
     "text": [
      "Using model as id variables\n",
      "\n",
      "Using model as id variables\n",
      "\n",
      "Using model as id variables\n",
      "\n",
      "Using model as id variables\n",
      "\n",
      "Using model as id variables\n",
      "\n",
      "Using model as id variables\n",
      "\n",
      "Saving 7 x 7 in image\n",
      "\n",
      "geom_path: Each group consists of only one observation. Do you need to adjust\n",
      "the group aesthetic?\n",
      "\n",
      "Saving 7 x 7 in image\n",
      "\n",
      "Saving 7 x 7 in image\n",
      "\n",
      "Saving 7 x 7 in image\n",
      "\n",
      "Saving 7 x 7 in image\n",
      "\n"
     ]
    }
   ],
   "source": [
    "source(\"NewSpiders.R\")"
   ]
  },
  {
   "cell_type": "code",
   "execution_count": 24,
   "metadata": {},
   "outputs": [],
   "source": [
    "#WILCOXON TEST"
   ]
  },
  {
   "cell_type": "code",
   "execution_count": 25,
   "metadata": {},
   "outputs": [
    {
     "name": "stderr",
     "output_type": "stream",
     "text": [
      "Using model as id variables\n",
      "\n",
      "Using model as id variables\n",
      "\n",
      "Using model as id variables\n",
      "\n",
      "Using model as id variables\n",
      "\n",
      "Using model as id variables\n",
      "\n",
      "Using model as id variables\n",
      "\n",
      "Using model as id variables\n",
      "\n",
      "Using model as id variables\n",
      "\n"
     ]
    },
    {
     "name": "stdout",
     "output_type": "stream",
     "text": [
      "[1] \"Wilcoxon test all\"\n",
      "[1] \"Wilcoxon test endUser\"\n",
      "[1] \"Wilcoxon test admin\"\n"
     ]
    }
   ],
   "source": [
    "setwd(scriptDirectory)\n",
    "source(\"WilcoxonAnalysis.R\")"
   ]
  },
  {
   "cell_type": "code",
   "execution_count": 26,
   "metadata": {},
   "outputs": [],
   "source": [
    "options(warn = defaultW)"
   ]
  }
 ],
 "metadata": {
  "kernelspec": {
   "display_name": "R",
   "language": "R",
   "name": "ir"
  },
  "language_info": {
   "codemirror_mode": "r",
   "file_extension": ".r",
   "mimetype": "text/x-r-source",
   "name": "R",
   "pygments_lexer": "r",
   "version": "3.5.3"
  }
 },
 "nbformat": 4,
 "nbformat_minor": 4
}
